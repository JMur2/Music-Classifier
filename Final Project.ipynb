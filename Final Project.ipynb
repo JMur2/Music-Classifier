{
 "cells": [
  {
   "cell_type": "markdown",
   "metadata": {},
   "source": [
    "# Final Project - Music Classifier\n",
    "\n",
    "Jake Murray\n",
    "\n",
    "This project is a song genre classifier, where given a song (.mp3 file), it will analyze the song and provide its genre with a margin of confidence.\n",
    "\n",
    "The dataset contains 249 unique songs, 5 genres with 50 songs each. The genres were:\n",
    "   - Rap\n",
    "   - Pop\n",
    "   - Country\n",
    "   - Rock\n",
    "   - Jazz (only 49 songs due to an error with files)\n",
    "   \n",
    "I selected these genres because of their abilitied to have unique aspects in their own right while also having a sectrum of possibility.  Fusions like   Pop-Country, Hip-Hop/Rap, and Rock-Country will be an interesting challege for the model, while also having to learn that bands like Metallica, The Beatles, and U2 all have a very unique sound while still all technically falling under the Rock genre."
   ]
  },
  {
   "cell_type": "code",
   "execution_count": 2,
   "metadata": {},
   "outputs": [],
   "source": [
    "# imports libraries needed for converting the mp3 files to the images slices \n",
    "from subprocess import Popen, PIPE, STDOUT\n",
    "from PIL import Image\n",
    "\n",
    "import sys\n",
    "import os\n",
    "import eyed3"
   ]
  },
  {
   "cell_type": "code",
   "execution_count": 3,
   "metadata": {},
   "outputs": [],
   "source": [
    "# Constant variables needed for some calculations\n",
    "size = 128\n",
    "pixelPerSecond = 50\n",
    "\n",
    "# All paths where files are loaded from and/or saved\n",
    "currentPath = os.path.abspath('')\n",
    "rawDataPath = \"Data/Raw/\"\n",
    "slicesPath = \"Data/Slices/\"\n",
    "datasetPath = \"Data/Dataset/\"\n",
    "spectrogramsPath = \"Data/Spectrograms/\"\n",
    "tmpPath = \"Data/tmp/\"\n",
    "\n",
    "eyed3.log.setLevel(\"ERROR\")"
   ]
  },
  {
   "cell_type": "code",
   "execution_count": 4,
   "metadata": {},
   "outputs": [
    {
     "name": "stdout",
     "output_type": "stream",
     "text": [
      "[\"'Country'\", \"'Jazz'\", \"'Pop'\", \"'Rap'\", \"'Rock'\"]\n"
     ]
    }
   ],
   "source": [
    "# establish the genres present in the data, \n",
    "# will automatically adjust for the inplementation of new songs\n",
    "genres = os.listdir(slicesPath)\n",
    "genres = [filename for filename in genres if os.path.isdir(slicesPath+filename)]\n",
    "nbClasses = len(genres)\n",
    "\n",
    "print(genres)"
   ]
  },
  {
   "cell_type": "markdown",
   "metadata": {},
   "source": [
    "# Establishing Data and Building the Model\n",
    "\n",
    "Now that the .mp3 files are in a usable format (from the other Jupyter Notebook file) for convolutional analysis, we can define these files more easily into useful datasets.  Using arrays and one hot encoding, we can create both training and testing datasets, with a split of 200 train - 50 test."
   ]
  },
  {
   "cell_type": "code",
   "execution_count": 5,
   "metadata": {},
   "outputs": [
    {
     "name": "stderr",
     "output_type": "stream",
     "text": [
      "Using TensorFlow backend.\n"
     ]
    }
   ],
   "source": [
    "import numpy as np\n",
    "import matplotlib.pyplot as plt\n",
    "import matplotlib.image as mpimg\n",
    "import os\n",
    "import cv2\n",
    "import random\n",
    "\n",
    "from sklearn.feature_extraction import image\n",
    "from scipy.io import loadmat\n",
    "from sklearn.model_selection import train_test_split\n",
    "from keras.utils import to_categorical\n",
    "from keras.models import Sequential\n",
    "from keras.layers import Dense, Flatten, Conv2D, MaxPooling2D, Dropout"
   ]
  },
  {
   "cell_type": "markdown",
   "metadata": {},
   "source": [
    "# Slices\n",
    "\n",
    "Below is an example of a \"slice,\" or one part of the song that is being analyzed.  It comes out as a 128x128 image, which is easily reduced down to a 32x32 image for analysis.  Every song ranges from 60 to 150 slices depending on the length, which \"artifically\" increases the amount of training/testing data.\n",
    "\n",
    "The desired result is in the name of the file, which is easy acquired and helps identify which slices go together"
   ]
  },
  {
   "cell_type": "code",
   "execution_count": 6,
   "metadata": {},
   "outputs": [
    {
     "name": "stdout",
     "output_type": "stream",
     "text": [
      "'Country'\n"
     ]
    },
    {
     "data": {
      "image/png": "[encoded data removed]",
      "text/plain": [
       "<Figure size 432x288 with 1 Axes>"
      ]
     },
     "metadata": {
      "needs_background": "light"
     },
     "output_type": "display_data"
    },
    {
     "data": {
      "image/png": "[encoded data removed]",
      "text/plain": [
       "<Figure size 432x288 with 1 Axes>"
      ]
     },
     "metadata": {
      "needs_background": "light"
     },
     "output_type": "display_data"
    }
   ],
   "source": [
    "def showImage(file_path):\n",
    "    for genre in genres:\n",
    "        print(genre)\n",
    "        #to look through each genre folder present in the directory\n",
    "        path = os.path.join(file_path, genre)\n",
    "        for image in os.listdir(path):\n",
    "            image_array = cv2.imread(os.path.join(path, image))\n",
    "            plt.imshow(image_array, cmap = \"gray\")\n",
    "            plt.show()\n",
    "            break\n",
    "        break\n",
    "    return image_array\n",
    "\n",
    "def resize(images):\n",
    "    new_image_array = cv2.resize(images, (32, 32))\n",
    "    plt.imshow(new_image_array, cmap = \"gray\")\n",
    "    plt.show()\n",
    "\n",
    "slice_img = showImage(slicesPath)\n",
    "resize(slice_img)"
   ]
  },
  {
   "cell_type": "markdown",
   "metadata": {},
   "source": [
    "# Getting a Dataset\n",
    "\n",
    "Now that we have all of the images defined thoroughly, we can use some functions to help get these images into python for analysis and application in the model.  These are taken from assignment 5/7 when we did convolutional networks, and is an easy way to pull images from a file on my machine.  This is also a consistent way to provide future analysis and the method below using the os library is used throughout this project.\n",
    "\n",
    "This method of getting files from the computer was shown to me by Nick Woida, in the video linked below:\n",
    "\n",
    "https://www.youtube.com/watch?v=j-3vuBynnOE&list=LLKC9FMZ-cz7yAiF33Evw3NQ&index=3&t=9s"
   ]
  },
  {
   "cell_type": "code",
   "execution_count": 7,
   "metadata": {},
   "outputs": [
    {
     "name": "stdout",
     "output_type": "stream",
     "text": [
      "Dataset Created!\n"
     ]
    }
   ],
   "source": [
    "#takes all local slices and and will add them to the \"dataset\" list\n",
    "def createDataset(file_path, size):\n",
    "    data = []\n",
    "    for genre in genres:\n",
    "        i = 0\n",
    "        path = os.path.join(file_path, genre)\n",
    "        genre_id = genres.index(genre)\n",
    "        \n",
    "        for image in os.listdir(path):\n",
    "            try:\n",
    "                if (i < size):\n",
    "                    image_array = cv2.imread(os.path.join(path, image))\n",
    "                    new_image = cv2.resize(image_array, (32, 32))\n",
    "                    data.append([new_image, genre_id])\n",
    "                    i += 1\n",
    "                else:\n",
    "                    break\n",
    "            except Exception as e:\n",
    "                pass\n",
    "    print(\"Dataset Created!\")\n",
    "    return data\n",
    "\n",
    "dataset = createDataset(slicesPath, 20000) # the value 20000 here is simply used to make sure all slices are used for each genre"
   ]
  },
  {
   "cell_type": "markdown",
   "metadata": {},
   "source": [
    "### Establish more refined Datasets\n",
    "\n",
    "Once we have an overall dataset from above, we can break this down further with train_test_split, in order to have more access to data and to better analyze/test everything.  There is a 80-20 split for training and testing data.  The Y data is using one hot encoding, and the X data value is normalized as well."
   ]
  },
  {
   "cell_type": "code",
   "execution_count": 8,
   "metadata": {
    "scrolled": true
   },
   "outputs": [
    {
     "name": "stdout",
     "output_type": "stream",
     "text": [
      "x_train shape:  (18992, 32, 32, 3)\n",
      "x_test shape:  (4748, 32, 32, 3)\n"
     ]
    }
   ],
   "source": [
    "x = []\n",
    "y = []\n",
    "\n",
    "for feature, label in dataset:\n",
    "    x.append(feature)\n",
    "    y.append(label)\n",
    "    \n",
    "x_train, x_test, y_train, y_test = train_test_split(x, y, test_size=0.2, random_state = 0)\n",
    "\n",
    "x_train = np.array(x_train).reshape(-1, 32, 32, 3)\n",
    "x_test = np.array(x_test).reshape(-1, 32, 32, 3)\n",
    "x_test = x_test / 255\n",
    "\n",
    "y_train_one = to_categorical(y_train)\n",
    "y_test_one = to_categorical(y_test)\n",
    "\n",
    "print(\"x_train shape: \", x_train.shape)\n",
    "print(\"x_test shape: \", x_test.shape)"
   ]
  },
  {
   "cell_type": "code",
   "execution_count": 9,
   "metadata": {},
   "outputs": [
    {
     "data": {
      "image/png": "[encoded data removed]",
      "text/plain": [
       "<Figure size 432x288 with 1 Axes>"
      ]
     },
     "metadata": {
      "needs_background": "light"
     },
     "output_type": "display_data"
    }
   ],
   "source": [
    "#example of a refined slice after out adjustment\n",
    "plt.imshow(x_train[4000,:,:,2])\n",
    "plt.show()"
   ]
  },
  {
   "cell_type": "markdown",
   "metadata": {},
   "source": [
    "# Defining and Creating the Model\n",
    "\n",
    "This is a convolution model almost exaclty the same as the ones we have used on assignment 5/7 in class.\n",
    "\n",
    "Dropout is set to 20% after each set of convolution, with 2x2 maxpooling as well.  Using a basic relu activation throughout with softmax at the end"
   ]
  },
  {
   "cell_type": "code",
   "execution_count": 10,
   "metadata": {},
   "outputs": [
    {
     "name": "stdout",
     "output_type": "stream",
     "text": [
      "_________________________________________________________________\n",
      "Layer (type)                 Output Shape              Param #   \n",
      "=================================================================\n",
      "conv2d_1 (Conv2D)            (None, 30, 30, 32)        896       \n",
      "_________________________________________________________________\n",
      "dropout_1 (Dropout)          (None, 30, 30, 32)        0         \n",
      "_________________________________________________________________\n",
      "conv2d_2 (Conv2D)            (None, 28, 28, 32)        9248      \n",
      "_________________________________________________________________\n",
      "max_pooling2d_1 (MaxPooling2 (None, 14, 14, 32)        0         \n",
      "_________________________________________________________________\n",
      "conv2d_3 (Conv2D)            (None, 12, 12, 64)        18496     \n",
      "_________________________________________________________________\n",
      "dropout_2 (Dropout)          (None, 12, 12, 64)        0         \n",
      "_________________________________________________________________\n",
      "conv2d_4 (Conv2D)            (None, 10, 10, 64)        36928     \n",
      "_________________________________________________________________\n",
      "max_pooling2d_2 (MaxPooling2 (None, 5, 5, 64)          0         \n",
      "_________________________________________________________________\n",
      "conv2d_5 (Conv2D)            (None, 3, 3, 128)         73856     \n",
      "_________________________________________________________________\n",
      "dropout_3 (Dropout)          (None, 3, 3, 128)         0         \n",
      "_________________________________________________________________\n",
      "conv2d_6 (Conv2D)            (None, 1, 1, 128)         147584    \n",
      "_________________________________________________________________\n",
      "flatten_1 (Flatten)          (None, 128)               0         \n",
      "_________________________________________________________________\n",
      "dropout_4 (Dropout)          (None, 128)               0         \n",
      "_________________________________________________________________\n",
      "dense_1 (Dense)              (None, 1024)              132096    \n",
      "_________________________________________________________________\n",
      "dropout_5 (Dropout)          (None, 1024)              0         \n",
      "_________________________________________________________________\n",
      "dense_2 (Dense)              (None, 512)               524800    \n",
      "_________________________________________________________________\n",
      "dropout_6 (Dropout)          (None, 512)               0         \n",
      "_________________________________________________________________\n",
      "dense_3 (Dense)              (None, 5)                 2565      \n",
      "=================================================================\n",
      "Total params: 946,469\n",
      "Trainable params: 946,469\n",
      "Non-trainable params: 0\n",
      "_________________________________________________________________\n"
     ]
    }
   ],
   "source": [
    "model = Sequential()\n",
    "\n",
    "model.add(Conv2D(32, (3, 3), activation='relu', input_shape=(32, 32, 3)))\n",
    "model.add(Dropout(0.2))\n",
    "model.add(Conv2D(32, (3, 3), activation='relu'))\n",
    "model.add(MaxPooling2D(pool_size=(2, 2)))\n",
    "\n",
    "model.add(Conv2D(64, (3, 3), activation='relu', input_shape=(32, 32, 3)))\n",
    "model.add(Dropout(0.2))\n",
    "model.add(Conv2D(64, (3, 3), activation='relu'))\n",
    "model.add(MaxPooling2D(pool_size=(2, 2)))\n",
    "\n",
    "model.add(Conv2D(128, (3, 3), activation='relu', input_shape=(32, 32, 3)))\n",
    "model.add(Dropout(0.2))\n",
    "model.add(Conv2D(128, (3, 3), activation='relu'))\n",
    "\n",
    "model.add(Flatten(data_format = None))\n",
    "model.add(Dropout(0.2))\n",
    "\n",
    "model.add(Dense(1024, activation='relu'))\n",
    "model.add(Dropout(0.2))\n",
    "\n",
    "model.add(Dense(512, activation='relu'))\n",
    "model.add(Dropout(0.2))\n",
    "\n",
    "model.add(Dense(5, activation='softmax'))\n",
    "\n",
    "model.summary(0)"
   ]
  },
  {
   "cell_type": "markdown",
   "metadata": {},
   "source": [
    "### Adadelta Optimizer\n",
    "\n",
    "I opted to use the Adadelta optimizer initally to just test different types of optimization.  Adadelta optimizer looks at changing the learning rate through a moving window of updates, rather than by looking at past gradients like other optimizers.\n",
    "\n",
    "Here is a link for more info on adadelta:\n",
    "https://keras.io/optimizers/"
   ]
  },
  {
   "cell_type": "code",
   "execution_count": 11,
   "metadata": {},
   "outputs": [],
   "source": [
    "model.compile(loss='categorical_crossentropy', optimizer='adadelta', metrics=['accuracy'])"
   ]
  },
  {
   "cell_type": "code",
   "execution_count": 12,
   "metadata": {
    "scrolled": false
   },
   "outputs": [
    {
     "name": "stdout",
     "output_type": "stream",
     "text": [
      "Train on 15193 samples, validate on 3799 samples\n",
      "Epoch 1/20\n",
      "15193/15193 [==============================] - 77s 5ms/step - loss: 1.8462 - acc: 0.2561 - val_loss: 1.5869 - val_acc: 0.2640\n",
      "Epoch 2/20\n",
      "15193/15193 [==============================] - 72s 5ms/step - loss: 1.5825 - acc: 0.2768 - val_loss: 1.5703 - val_acc: 0.3056\n",
      "Epoch 3/20\n",
      "15193/15193 [==============================] - 66s 4ms/step - loss: 1.5593 - acc: 0.2841 - val_loss: 1.5321 - val_acc: 0.2795\n",
      "Epoch 4/20\n",
      "15193/15193 [==============================] - 65s 4ms/step - loss: 1.4685 - acc: 0.3552 - val_loss: 1.4498 - val_acc: 0.3651\n",
      "Epoch 5/20\n",
      "15193/15193 [==============================] - 68s 4ms/step - loss: 1.4020 - acc: 0.4048 - val_loss: 1.3426 - val_acc: 0.4004\n",
      "Epoch 6/20\n",
      "15193/15193 [==============================] - 59s 4ms/step - loss: 1.2799 - acc: 0.4761 - val_loss: 1.1168 - val_acc: 0.5754\n",
      "Epoch 7/20\n",
      "15193/15193 [==============================] - 59s 4ms/step - loss: 1.1674 - acc: 0.5310 - val_loss: 1.2041 - val_acc: 0.5201\n",
      "Epoch 8/20\n",
      "15193/15193 [==============================] - 61s 4ms/step - loss: 1.0611 - acc: 0.5840 - val_loss: 0.9213 - val_acc: 0.6415\n",
      "Epoch 9/20\n",
      "15193/15193 [==============================] - 68s 4ms/step - loss: 0.9864 - acc: 0.6062 - val_loss: 0.9299 - val_acc: 0.6228\n",
      "Epoch 10/20\n",
      "15193/15193 [==============================] - 67s 4ms/step - loss: 0.9820 - acc: 0.6104 - val_loss: 1.0176 - val_acc: 0.6283\n",
      "Epoch 11/20\n",
      "15193/15193 [==============================] - 74s 5ms/step - loss: 0.8849 - acc: 0.6549 - val_loss: 0.8758 - val_acc: 0.6689\n",
      "Epoch 12/20\n",
      "15193/15193 [==============================] - 72s 5ms/step - loss: 0.8627 - acc: 0.6635 - val_loss: 0.8903 - val_acc: 0.6460\n",
      "Epoch 13/20\n",
      "15193/15193 [==============================] - 67s 4ms/step - loss: 0.8142 - acc: 0.6778 - val_loss: 0.7317 - val_acc: 0.7233\n",
      "Epoch 14/20\n",
      "15193/15193 [==============================] - 73s 5ms/step - loss: 0.7916 - acc: 0.6930 - val_loss: 0.8490 - val_acc: 0.6897\n",
      "Epoch 15/20\n",
      "15193/15193 [==============================] - 73s 5ms/step - loss: 0.7882 - acc: 0.6908 - val_loss: 0.7156 - val_acc: 0.7186\n",
      "Epoch 16/20\n",
      "15193/15193 [==============================] - 73s 5ms/step - loss: 0.7184 - acc: 0.7169 - val_loss: 0.7127 - val_acc: 0.7307\n",
      "Epoch 17/20\n",
      "15193/15193 [==============================] - 60s 4ms/step - loss: 0.6995 - acc: 0.7292 - val_loss: 0.6812 - val_acc: 0.7407\n",
      "Epoch 18/20\n",
      "15193/15193 [==============================] - 58s 4ms/step - loss: 0.6767 - acc: 0.7381 - val_loss: 0.6597 - val_acc: 0.7457\n",
      "Epoch 19/20\n",
      "15193/15193 [==============================] - 57s 4ms/step - loss: 0.6622 - acc: 0.7439 - val_loss: 0.6569 - val_acc: 0.7439\n",
      "Epoch 20/20\n",
      "15193/15193 [==============================] - 58s 4ms/step - loss: 0.6041 - acc: 0.7648 - val_loss: 0.7437 - val_acc: 0.7083\n"
     ]
    }
   ],
   "source": [
    "history = model.fit(x_train, y_train_one, batch_size=256, epochs=20, validation_split=0.2)"
   ]
  },
  {
   "cell_type": "code",
   "execution_count": 14,
   "metadata": {},
   "outputs": [
    {
     "name": "stdout",
     "output_type": "stream",
     "text": [
      "4748/4748 [==============================] - 5s 1ms/step\n"
     ]
    },
    {
     "data": {
      "text/plain": [
       "0.23441449033681747"
      ]
     },
     "execution_count": 14,
     "metadata": {},
     "output_type": "execute_result"
    }
   ],
   "source": [
    "model.evaluate(x_test, y_test_one)[1]"
   ]
  },
  {
   "cell_type": "code",
   "execution_count": 15,
   "metadata": {},
   "outputs": [
    {
     "data": {
      "image/png": "[encoded data removed]",
      "text/plain": [
       "<Figure size 432x288 with 1 Axes>"
      ]
     },
     "metadata": {
      "needs_background": "light"
     },
     "output_type": "display_data"
    }
   ],
   "source": [
    "plt.plot(history.history['acc'])\n",
    "plt.plot(history.history['val_acc'])\n",
    "plt.title('Model Accuracy')\n",
    "plt.xlabel('Epoch')\n",
    "plt.ylabel('Accuracy')\n",
    "plt.legend(['Train', 'Val'], loc='upper left')\n",
    "plt.show()"
   ]
  },
  {
   "cell_type": "code",
   "execution_count": 16,
   "metadata": {},
   "outputs": [
    {
     "data": {
      "image/png": "[encoded data removed]",
      "text/plain": [
       "<Figure size 432x288 with 1 Axes>"
      ]
     },
     "metadata": {
      "needs_background": "light"
     },
     "output_type": "display_data"
    }
   ],
   "source": [
    "plt.plot(history.history['loss'])\n",
    "plt.plot(history.history['val_loss'])\n",
    "plt.title('Model loss')\n",
    "plt.ylabel('Loss')\n",
    "plt.xlabel('Epoch')\n",
    "plt.legend(['Train', 'Val'], loc='upper right')\n",
    "plt.show()"
   ]
  },
  {
   "cell_type": "markdown",
   "metadata": {},
   "source": [
    "# Results\n",
    "\n",
    "The results above are nice to look at and provide the accuracy per slice, which is definitely useful information.  This alone however does not cover all of the results we want to look at.  Many slices are all being applied to the same song, and we would like to see how they compare to eachother, and what the majority decision is to get a guess for the song as a whole.  So in the code below, we are going to look at the results for each input/output from the model to analyze the majority consensus."
   ]
  },
  {
   "cell_type": "code",
   "execution_count": null,
   "metadata": {},
   "outputs": [],
   "source": [
    "from keras import backend as K\n",
    "\n",
    "get_out = K.function([model.layers[0].input], [model.layers[17].output])\n",
    "output = get_out([x])[0]"
   ]
  },
  {
   "cell_type": "markdown",
   "metadata": {},
   "source": [
    "## What the output means\n",
    "\n",
    "The output of this model provides 5 values, each of the values will show the confidence of the slice being that specific genre. \n",
    "Knowing this, we can find the results of how confident the model is identifying songs in their entirity. A high output for an entry means it is very confident, and the lower it gets the lower its confidence. This is also where the evaluation scores for the slices come from in the model.  It takes the highest value as its result for that slice, regardless of if it is only 3 points higher or 60 points higher."
   ]
  },
  {
   "cell_type": "code",
   "execution_count": null,
   "metadata": {},
   "outputs": [],
   "source": [
    "#this cell is used to get the count of how many slices there are per genre.  This will be useful later\n",
    "rockCount = 0\n",
    "jazzCount = 0\n",
    "popCount = 0\n",
    "rapCount = 0\n",
    "countryCount = 0\n",
    "\n",
    "for obj in output:\n",
    "    if max(obj) == obj[0]:\n",
    "        countryCount += 1\n",
    "    elif max(obj) == obj[1]:\n",
    "        jazzCount += 1\n",
    "    elif max(obj) == obj[2]:\n",
    "        popCount += 1\n",
    "    elif max(obj) == obj[3]:\n",
    "        rapCount += 1\n",
    "    elif max(obj) == obj[4]:\n",
    "        rockCount += 1\n",
    "\n",
    "print(\"Rock Count: \", rockCount)\n",
    "print(\"Jazz Count: \", jazzCount)\n",
    "print(\"Rap Count: \", rapCount)\n",
    "print(\"Pop Count: \", popCount)\n",
    "print(\"Country Count: \", countryCount)"
   ]
  },
  {
   "cell_type": "markdown",
   "metadata": {},
   "source": [
    "# Finding the Overall Classification\n",
    "\n",
    "In order to find the overall classification per song, we need to identify which slices made up which songs first.  There are 249 total songs, each with anywhere from 60 to 150 slices per song.  Knowing this, I used the file names in the directory they are saved to to count the number of slices per song and save it into the total array.  \n",
    "\n",
    "Each song follows the naming convention:\n",
    "\n",
    "- 'Genre'\\_#\\_#.png\n",
    "\n",
    "Where the genre is the genre of the song, the first # is which song number it is from (1-50 for each genre) and the second # is which slice it is for that song.  So,\n",
    "\n",
    "- 'Jazz'\\_1\\_33.png\n",
    "\n",
    "is the 33rd slice of the 1st jazz song in the directory.  Using this information, I can count the slices per song, and then find out what the majority decision is for that set of slices.  One function below counts the slices, and the other takes a slice and returns what it was classified as."
   ]
  },
  {
   "cell_type": "code",
   "execution_count": null,
   "metadata": {},
   "outputs": [],
   "source": [
    "def getNumberOfSlices(index, value, used_list): \n",
    "    if value > used_list[index]:\n",
    "            used_list.pop(index)\n",
    "            used_list.insert(index, value)"
   ]
  },
  {
   "cell_type": "code",
   "execution_count": null,
   "metadata": {},
   "outputs": [],
   "source": [
    "def classifyMajority(maxIndex):\n",
    "    classify = \"Indeterminent\"\n",
    "    if maxIndex == 0:\n",
    "        classify = \"Country\"\n",
    "    elif maxIndex == 1:\n",
    "        classify = \"Jazz\"\n",
    "    elif maxIndex == 2:\n",
    "        classify = \"Pop\"\n",
    "    elif maxIndex == 3:\n",
    "        classify = \"Rap\"\n",
    "    elif maxIndex == 4:\n",
    "        classify = \"Rock\"\n",
    "    else:\n",
    "        classify = \"Indeterminent\"\n",
    "    \n",
    "    return classify"
   ]
  },
  {
   "cell_type": "code",
   "execution_count": null,
   "metadata": {
    "scrolled": false
   },
   "outputs": [],
   "source": [
    "countrySlicePerSong = [0] * 50\n",
    "jazzSlicePerSong = [0] * 49\n",
    "popSlicePerSong = [0] * 50\n",
    "rapSlicePerSong = [0] * 50\n",
    "rockSlicePerSong = [0] * 50\n",
    "\n",
    "for genre in genres:\n",
    "    path = os.path.join(slicesPath, genre)\n",
    "    \n",
    "    for file in os.listdir(path):\n",
    "        index = int(file.split(\"_\")[1]) - 1\n",
    "        value = int(file.split(\"_\")[2].split(\".\")[0])     \n",
    "                        \n",
    "        if genre == \"'Rock'\":\n",
    "            getNumberOfSlices(index, value, rockSlicePerSong)\n",
    "        elif genre == \"'Jazz'\":\n",
    "            getNumberOfSlices(index, value, jazzSlicePerSong)\n",
    "        elif genre == \"'Rap'\":\n",
    "            getNumberOfSlices(index, value, rapSlicePerSong)\n",
    "        elif genre == \"'Pop'\":\n",
    "            getNumberOfSlices(index, value, popSlicePerSong)\n",
    "        elif genre == \"'Country'\":\n",
    "            getNumberOfSlices(index, value, countrySlicePerSong)\n",
    "            \n",
    "total = countrySlicePerSong + jazzSlicePerSong + popSlicePerSong + rapSlicePerSong + rockSlicePerSong"
   ]
  },
  {
   "cell_type": "markdown",
   "metadata": {},
   "source": [
    "# Actually Classifying Songs\n",
    "\n",
    "Using the classifyMajority function shown above, we can go through all the slices, and count the majorities for the song they make up.  The default assumption is \"unsure\" in the event that there is an even split or no clear majority.  "
   ]
  },
  {
   "cell_type": "code",
   "execution_count": null,
   "metadata": {
    "scrolled": true
   },
   "outputs": [],
   "source": [
    "out = output.tolist()\n",
    "\n",
    "country = [\"Unsure\"] * 50\n",
    "jazz = [\"Unsure\"] * 49\n",
    "pop = [\"Unsure\"] * 50\n",
    "rap = [\"Unsure\"] * 50\n",
    "rock = [\"Unsure\"] * 50\n",
    "\n",
    "song = 1\n",
    "\n",
    "for num in total:\n",
    "    majorities = [0] * 5\n",
    "    for i in range(num):\n",
    "        current = out.pop(0)\n",
    "        maxIndex = current.index(max(current))\n",
    "        \n",
    "        majorities[maxIndex] += 1\n",
    "        maxMajority = majorities.index(max(majorities))\n",
    "        \n",
    "        if song <= 50:\n",
    "            country[song-1] = classifyMajority(maxMajority)\n",
    "        elif song > 50 and song <= 99:\n",
    "            jazz[song-51] = classifyMajority(maxMajority)\n",
    "        elif song > 99 and song <= 149:\n",
    "            pop[song-101] = classifyMajority(maxMajority)\n",
    "        elif song > 149 and song <= 199:\n",
    "            rap[song-151] = classifyMajority(maxMajority)\n",
    "        elif song > 199:\n",
    "            rock[song-201] = classifyMajority(maxMajority)\n",
    "    \n",
    "    song += 1"
   ]
  },
  {
   "cell_type": "markdown",
   "metadata": {},
   "source": [
    "# Outputting the results\n",
    "\n",
    "Since we have the classifications for every song, we can compare them to the expected genre to find the overall accuracy."
   ]
  },
  {
   "cell_type": "code",
   "execution_count": null,
   "metadata": {},
   "outputs": [],
   "source": [
    "countryTotal = country.count('Country')\n",
    "jazzTotal = jazz.count('Jazz')\n",
    "popTotal = pop.count('Pop')\n",
    "rapTotal = rap.count('Rap')\n",
    "rockTotal = rock.count('Rock')\n",
    "\n",
    "# print(countryTotal)\n",
    "# print(jazzTotal)\n",
    "# print(popTotal)\n",
    "# print(rapTotal)\n",
    "# print(rockTotal)\n",
    "\n",
    "countryPercent = (countryTotal / len(country))*100\n",
    "jazzPercent = (jazzTotal / len(jazz))*100\n",
    "popPercent = (popTotal / len(pop))*100\n",
    "rapPercent = (rapTotal / len(rap))*100\n",
    "rockPercent = (rockTotal / len(rock))*100\n",
    "\n",
    "print(\"Country Percent Accuracy:\", countryPercent)\n",
    "print(\"Jazz Percent Accuracy:\", jazzPercent)\n",
    "print(\"Pop Percent Accuracy:\", popPercent)\n",
    "print(\"Rap Percent Accuracy:\", rapPercent)\n",
    "print(\"Rock Percent Accruacy\", rockPercent)"
   ]
  },
  {
   "cell_type": "markdown",
   "metadata": {},
   "source": [
    "# Results\n",
    "\n",
    "Over many different variations of running this model there were some common trends.  Jazz always had a 100% accuracy in this model, and that is kind of expected.  Their songs are on average the longest of all 5 genres, leading to it having more slices per song. The solution to this issue of lengths would be to normalize the slice per song between datasets.  Jazz songs had more than double the amount of slices that pop had.  Another issue is with the function that reads in data.  It would often drop certain data values when reading in the images, and country music consistently lost a few thousand images, giving it a horrible accuracy overall. I had versions of this where Country had 94% accuracy, and runs where it had 12% accuracy.  Ensuring the correct use of data is really important for this kind of project.  \n",
    "\n",
    "Regardless of these issues, I am incredibly happy with how this project trned out with its ability to identify these songs."
   ]
  }
 ],
 "metadata": {
  "kernelspec": {
   "display_name": "Python 3.6 (tensorflow)",
   "language": "python",
   "name": "tensorflow"
  },
  "language_info": {
   "codemirror_mode": {
    "name": "ipython",
    "version": 3
   },
   "file_extension": ".py",
   "mimetype": "text/x-python",
   "name": "python",
   "nbconvert_exporter": "python",
   "pygments_lexer": "ipython3",
   "version": "3.6.9"
  }
 },
 "nbformat": 4,
 "nbformat_minor": 2
}
